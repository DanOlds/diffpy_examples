{
 "cells": [
  {
   "cell_type": "markdown",
   "metadata": {},
   "source": [
    "# Fit Ni PDF\n",
    "\n",
    "This is an example of using the DiffPy-CMI framework to fit a Ni neutron PDF. It illustrates how to build a simple fit recipe with a PDF data file and a structure uploaded from a cif file. It should be straightforward to adapt this example to fit your own data.  Simply replace the ``dataFile`` and ``structureFile`` variables with your own and modify the ``spaceGroup`` variable as appropriate."
   ]
  },
  {
   "cell_type": "code",
   "execution_count": null,
   "metadata": {
    "collapsed": true
   },
   "outputs": [],
   "source": [
    "from __future__ import print_function\n",
    "\n",
    "import numpy as np\n",
    "import matplotlib.pyplot as plt\n",
    "from scipy.optimize.minpack import leastsq\n",
    "\n",
    "# DiffPy-CMI modules for building a fitting recipe\n",
    "from diffpy.Structure import loadStructure\n",
    "from diffpy.srfit.pdf import PDFContribution\n",
    "from diffpy.srfit.fitbase import FitRecipe, FitResults\n",
    "\n",
    "from diffpy.srfit.structure import constrainAsSpaceGroup\n"
   ]
  },
  {
   "cell_type": "markdown",
   "metadata": {},
   "source": [
    "Specify the files containing our experimental data and structure file\n",
    "\n"
   ]
  },
  {
   "cell_type": "code",
   "execution_count": 1,
   "metadata": {
    "collapsed": true
   },
   "outputs": [],
   "source": [
    "dataFile = \"ni-q27r100-neutron.gr\"\n",
    "structureFile = \"ni.cif\"\n",
    "spaceGroup = \"Fm-3m\""
   ]
  },
  {
   "cell_type": "markdown",
   "metadata": {},
   "source": [
    " The first thing to construct is a contribution. Since this is a simple example, the contribution will simply contain our PDF data and an associated structure file. We'll give it the name \"nickel\"."
   ]
  },
  {
   "cell_type": "code",
   "execution_count": null,
   "metadata": {
    "collapsed": true
   },
   "outputs": [],
   "source": [
    "niPDF = PDFContribution(\"nickel\")"
   ]
  },
  {
   "cell_type": "markdown",
   "metadata": {},
   "source": [
    "Load the data and set the r-range over which we'll fit"
   ]
  },
  {
   "cell_type": "code",
   "execution_count": null,
   "metadata": {
    "collapsed": true
   },
   "outputs": [],
   "source": [
    "niPDF.loadData(dataFile)\n",
    "niPDF.setCalculationRange(xmin=1, xmax=20, dx=0.01)"
   ]
  },
  {
   "cell_type": "markdown",
   "metadata": {},
   "source": [
    "Add the structure from our cif file to the contribution."
   ]
  },
  {
   "cell_type": "code",
   "execution_count": null,
   "metadata": {
    "collapsed": true
   },
   "outputs": [],
   "source": [
    "niStructure = loadStructure(structureFile)\n",
    "niPDF.addStructure(\"nickel\", niStructure)"
   ]
  },
  {
   "cell_type": "markdown",
   "metadata": {},
   "source": [
    "The FitRecipe does the work of calculating the PDF with the fit variable that we give it."
   ]
  },
  {
   "cell_type": "code",
   "execution_count": null,
   "metadata": {
    "collapsed": true
   },
   "outputs": [],
   "source": [
    "niFit = FitRecipe()"
   ]
  },
  {
   "cell_type": "markdown",
   "metadata": {},
   "source": [
    "Give the PDFContribution to the FitRecipe."
   ]
  },
  {
   "cell_type": "code",
   "execution_count": null,
   "metadata": {
    "collapsed": true
   },
   "outputs": [],
   "source": [
    "niFit.addContribution(niPDF)"
   ]
  },
  {
   "cell_type": "markdown",
   "metadata": {},
   "source": [
    "Configure the fit variables and give them to the recipe.  We can use the srfit function constrainAsSpaceGroup to constrain the lattice and ADP parameters according to the Fm-3m space group."
   ]
  },
  {
   "cell_type": "code",
   "execution_count": null,
   "metadata": {
    "collapsed": true
   },
   "outputs": [],
   "source": [
    "spaceGroupParams = constrainAsSpaceGroup(niPDF.nickel.phase, spaceGroup)\n",
    "print(\"Space group parameters are:\",\n",
    "      ', '.join(p.name for p in spaceGroupParams))"
   ]
  },
  {
   "cell_type": "markdown",
   "metadata": {},
   "source": [
    "We can now cycle through the parameters and activate them in the recipe as variables."
   ]
  },
  {
   "cell_type": "code",
   "execution_count": null,
   "metadata": {
    "collapsed": true
   },
   "outputs": [],
   "source": [
    "for par in spaceGroupParams.latpars:\n",
    "    niFit.addVar(par)"
   ]
  },
  {
   "cell_type": "markdown",
   "metadata": {},
   "source": [
    "Set initial value for the ADP parameters, because CIF had no ADP data."
   ]
  },
  {
   "cell_type": "code",
   "execution_count": null,
   "metadata": {
    "collapsed": true
   },
   "outputs": [],
   "source": [
    "for par in spaceGroupParams.adppars:\n",
    "    niFit.addVar(par, value=0.005)"
   ]
  },
  {
   "cell_type": "markdown",
   "metadata": {},
   "source": [
    "As usual, we add variables for the overall scale of the PDF and a delta2 parameter for correlated motion of neighboring atoms."
   ]
  },
  {
   "cell_type": "code",
   "execution_count": null,
   "metadata": {
    "collapsed": true
   },
   "outputs": [],
   "source": [
    "niFit.addVar(niPDF.scale, 1)\n",
    "niFit.addVar(niPDF.nickel.delta2, 5)"
   ]
  },
  {
   "cell_type": "markdown",
   "metadata": {},
   "source": [
    "We fix Qdamp based on prior information about our beamline.\n"
   ]
  },
  {
   "cell_type": "code",
   "execution_count": null,
   "metadata": {
    "collapsed": true
   },
   "outputs": [],
   "source": [
    "niFit.addVar(niPDF.qdamp, 0.03, fixed=True)"
   ]
  },
  {
   "cell_type": "markdown",
   "metadata": {},
   "source": [
    "Turn off the option to printout refinement iteration number."
   ]
  },
  {
   "cell_type": "code",
   "execution_count": null,
   "metadata": {
    "collapsed": true
   },
   "outputs": [],
   "source": [
    "niFit.clearFitHooks()"
   ]
  },
  {
   "cell_type": "markdown",
   "metadata": {},
   "source": [
    "We can now execute the fit using scipy's least square optimizer."
   ]
  },
  {
   "cell_type": "code",
   "execution_count": null,
   "metadata": {
    "collapsed": true
   },
   "outputs": [],
   "source": [
    "print(\"Refine PDF using scipy's least-squares optimizer:\")\n",
    "print(\"  variables:\", niFit.names)\n",
    "print(\"  initial values:\", niFit.values)\n",
    "\n",
    "leastsq(niFit.residual, niFit.values) #running the refinement\n",
    "\n",
    "print(\"  final values:\", niFit.values)"
   ]
  },
  {
   "cell_type": "markdown",
   "metadata": {},
   "source": [
    "Obtain and display the fit results."
   ]
  },
  {
   "cell_type": "code",
   "execution_count": null,
   "metadata": {
    "collapsed": true
   },
   "outputs": [],
   "source": [
    "niResults = FitResults(niFit)\n",
    "print(\"FIT RESULTS\\n\")\n",
    "print(niResults)"
   ]
  },
  {
   "cell_type": "markdown",
   "metadata": {},
   "source": [
    "Now, to plot the observed and refined PDF.\n",
    "\n",
    "First, extract the data from the fit profile."
   ]
  },
  {
   "cell_type": "code",
   "execution_count": null,
   "metadata": {
    "collapsed": true
   },
   "outputs": [],
   "source": [
    "r = niFit.nickel.profile.x\n",
    "gobs = niFit.nickel.profile.y"
   ]
  },
  {
   "cell_type": "markdown",
   "metadata": {},
   "source": [
    "Next, get the calculated PDF and compute the difference between the calculated and measured PDF."
   ]
  },
  {
   "cell_type": "code",
   "execution_count": null,
   "metadata": {
    "collapsed": true
   },
   "outputs": [],
   "source": [
    "gcalc = niFit.nickel.evaluate()\n",
    "baseline = 1.1 * gobs.min()\n",
    "gdiff = gobs - gcalc"
   ]
  },
  {
   "cell_type": "markdown",
   "metadata": {},
   "source": [
    "Finally, generate the plot."
   ]
  },
  {
   "cell_type": "code",
   "execution_count": null,
   "metadata": {
    "collapsed": true
   },
   "outputs": [],
   "source": [
    "plt.figure()\n",
    "plt.plot(r, gobs, 'bo', label=\"G(r) data\",\n",
    "         markerfacecolor='none', markeredgecolor='b')\n",
    "plt.plot(r, gcalc, 'r-', label=\"G(r) fit\")\n",
    "plt.plot(r, gdiff + baseline, 'g-', label=\"G(r) diff\")\n",
    "plt.plot(r, np.zeros_like(r) + baseline, 'k:')\n",
    "plt.xlabel(r\"r ($\\AA$)\")\n",
    "plt.ylabel(r\"G ($\\AA^{-2}$)\")\n",
    "plt.legend()\n"
   ]
  },
  {
   "cell_type": "code",
   "execution_count": null,
   "metadata": {
    "collapsed": true
   },
   "outputs": [],
   "source": []
  }
 ],
 "metadata": {
  "kernelspec": {
   "display_name": "Python 3",
   "language": "python",
   "name": "python3"
  },
  "language_info": {
   "codemirror_mode": {
    "name": "ipython",
    "version": 3
   },
   "file_extension": ".py",
   "mimetype": "text/x-python",
   "name": "python",
   "nbconvert_exporter": "python",
   "pygments_lexer": "ipython3",
   "version": "3.6.3"
  }
 },
 "nbformat": 4,
 "nbformat_minor": 2
}
