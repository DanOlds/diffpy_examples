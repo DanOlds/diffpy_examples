{
 "cells": [
  {
   "cell_type": "markdown",
   "metadata": {},
   "source": [
    "Demonstration of a user-defined profile function."
   ]
  },
  {
   "cell_type": "code",
   "execution_count": null,
   "metadata": {},
   "outputs": [],
   "source": [
    "\n",
    "from diffpy.srreal.peakprofile import PeakProfile\n",
    "\n",
    "\n",
    "class RectangleProfile(PeakProfile):\n",
    "    \"\"\"Rectangle profile function with a unit area.\n",
    "    \"\"\"\n",
    "\n",
    "    # overload functions from the base class\n",
    "\n",
    "    def __call__(self, x, fwhm):\n",
    "        \"\"\"Evaluate rectangle function centered at zero.\n",
    "\n",
    "        x    -- independent variable to calculate the profile at\n",
    "        fwhm -- width of the rectangle profile.  In PDF simulation\n",
    "                this is determined from displacement parameters of\n",
    "                each contributing pair of atoms.\n",
    "\n",
    "        Return the profile function at x.\n",
    "        \"\"\"\n",
    "        y = 0.0\n",
    "        if -fwhm/2.0 < x < +fwhm/2.0:\n",
    "            y = 1.0 / fwhm\n",
    "        return y\n",
    "\n",
    "\n",
    "    def clone(self):\n",
    "        \"Return a copy of this profile object.\"\n",
    "        import copy\n",
    "        return copy.copy(self)\n",
    "\n",
    "\n",
    "    def create(self):\n",
    "        \"Return new instance of this profile type.\"\n",
    "        return RectangleProfile()\n",
    "\n",
    "\n",
    "    def type(self):\n",
    "        \"Return unique string identifier for this profile type.\"\n",
    "        return \"rectangleprofile\"\n",
    "\n",
    "\n",
    "    def xboundhi(self, fwhm):\n",
    "        \"\"\"Upper bound where profile becomes smaller than the requested\n",
    "        precision (self.precision).\"\"\"\n",
    "        return +0.5 * fwhm\n",
    "\n",
    "\n",
    "    def xboundlo(self, fwhm):\n",
    "        \"\"\"Lower bound where profile becomes smaller than the requested\n",
    "        precision (self.precision).\"\"\"\n",
    "        return -0.5 * fwhm\n",
    "\n",
    "# end of class RectangleProfile\n",
    "\n",
    "# Register this profile function so it can be assigned by its string type.\n",
    "RectangleProfile()._registerThisType()\n"
   ]
  },
  {
   "cell_type": "code",
   "execution_count": null,
   "metadata": {
    "collapsed": true
   },
   "outputs": [],
   "source": []
  }
 ],
 "metadata": {
  "kernelspec": {
   "display_name": "Python 3",
   "language": "python",
   "name": "python3"
  },
  "language_info": {
   "codemirror_mode": {
    "name": "ipython",
    "version": 3
   },
   "file_extension": ".py",
   "mimetype": "text/x-python",
   "name": "python",
   "nbconvert_exporter": "python",
   "pygments_lexer": "ipython3",
   "version": "3.6.3"
  }
 },
 "nbformat": 4,
 "nbformat_minor": 2
}
