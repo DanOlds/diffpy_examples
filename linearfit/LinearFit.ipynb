{
 "cells": [
  {
   "cell_type": "markdown",
   "metadata": {},
   "source": [
    "# SrFit example for a simple linear fit to a noisy data."
   ]
  },
  {
   "cell_type": "markdown",
   "metadata": {},
   "source": [
    "Simulate linear data with some random Gaussian noise and plot the generated \"observed\" data (xobs, yobs)."
   ]
  },
  {
   "cell_type": "code",
   "execution_count": 1,
   "metadata": {},
   "outputs": [],
   "source": [
    "%matplotlib inline\n",
    "\n",
    "from __future__ import print_function\n",
    "import numpy as np\n",
    "import matplotlib.pyplot as plt"
   ]
  },
  {
   "cell_type": "code",
   "execution_count": 2,
   "metadata": {},
   "outputs": [
    {
     "data": {
      "text/plain": [
       "Text(0.5,1,'y = 0.5*x + 3 generated with a normal noise at sigma=0.3')"
      ]
     },
     "execution_count": 2,
     "metadata": {},
     "output_type": "execute_result"
    },
    {
     "data": {
      "image/png": "[encoded data removed]",
      "text/plain": [
       "<Figure size 432x288 with 1 Axes>"
      ]
     },
     "metadata": {},
     "output_type": "display_data"
    }
   ],
   "source": [
    "xobs = np.arange(-10, 10.1)\n",
    "dyobs = 0.3 * np.ones_like(xobs)\n",
    "yobs = 0.5 * xobs + 3 + dyobs * np.random.randn(xobs.size)\n",
    "plt.plot(xobs, yobs, 'x')\n",
    "plt.title('y = 0.5*x + 3 generated with a normal noise at sigma=0.3')"
   ]
  },
  {
   "cell_type": "markdown",
   "metadata": {},
   "source": [
    "We are going to define a line fitting regression using SrFit.\n",
    "At first we create a SrFit Profile object that holds the observed data."
   ]
  },
  {
   "cell_type": "code",
   "execution_count": 3,
   "metadata": {},
   "outputs": [],
   "source": [
    "from diffpy.srfit.fitbase import Profile\n",
    "linedata = Profile()\n",
    "linedata.setObservedProfile(xobs, yobs, dyobs)"
   ]
  },
  {
   "cell_type": "markdown",
   "metadata": {},
   "source": [
    "The second step is to create a FitContribution object, which associates observed profile with a mathematical model for the dependent variable."
   ]
  },
  {
   "cell_type": "code",
   "execution_count": 4,
   "metadata": {},
   "outputs": [],
   "source": [
    "from diffpy.srfit.fitbase import FitContribution\n",
    "linefit = FitContribution('linefit')\n",
    "linefit.setProfile(linedata)\n",
    "linefit.setEquation(\"A * x + B\")"
   ]
  },
  {
   "cell_type": "markdown",
   "metadata": {},
   "source": [
    " SrFit objects can be examined by calling their **show()** function.  SrFit\n",
    " parses the model equation and finds two parameters A, B at independent\n",
    " variable x.  The values of parameters A, B are at this stage undefined.\n"
   ]
  },
  {
   "cell_type": "code",
   "execution_count": 5,
   "metadata": {},
   "outputs": [
    {
     "name": "stdout",
     "output_type": "stream",
     "text": [
      "Parameters\n",
      "------------------------------------------------------------------------------\n",
      "x   [-10.  -9.  -8.  -7.  -6.  -5.  -4.  -3.  -2.  -1.   0.   1.   2.   3.\n",
      "   \n",
      "y   [-2.25732318 -1.81680003 -1.3006876  -0.4462725   0.5235874   0.72149738\n",
      " \n",
      "dy  [0.3 0.3 0.3 0.3 0.3 0.3 0.3 0.3 0.3 0.3 0.3 0.3 0.3 0.3 0.3 0.3 0.3 0.3\n",
      " \n",
      "A   None\n",
      "B   None\n"
     ]
    }
   ],
   "source": [
    "linefit.show()"
   ]
  },
  {
   "cell_type": "markdown",
   "metadata": {},
   "source": [
    "We can set A and B to some specific values and calculate model\n",
    "observations.  The x and y attributes of the FitContribution are \n",
    "the observed values, which may be re-sampled or truncated to a shorter \n",
    "fitting range."
   ]
  },
  {
   "cell_type": "code",
   "execution_count": 6,
   "metadata": {},
   "outputs": [
    {
     "name": "stdout",
     "output_type": "stream",
     "text": [
      "Parameter(A) 3\n",
      "Parameter(B) 5\n"
     ]
    }
   ],
   "source": [
    "linefit.A\n",
    "linefit.A = 3\n",
    "linefit.B = 5\n",
    "print(linefit.A, linefit.A.value)\n",
    "print(linefit.B, linefit.B.value)"
   ]
  },
  {
   "cell_type": "markdown",
   "metadata": {},
   "source": [
    "`linefit.evaluate()` returns the modeled values and `linefit.residual()`,\n",
    "the difference between observed and modeled data scaled by estimated\n",
    "standard deviations."
   ]
  },
  {
   "cell_type": "code",
   "execution_count": 7,
   "metadata": {},
   "outputs": [
    {
     "name": "stdout",
     "output_type": "stream",
     "text": [
      "linefit.evaluate() = [-25. -22. -19. -16. -13. -10.  -7.  -4.  -1.   2.   5.   8.  11.  14.\n",
      "  17.  20.  23.  26.  29.  32.  35.]\n",
      "linefit.residual() = [-75.80892275 -67.27733324 -58.997708   -51.84575833 -45.07862467\n",
      " -35.7383246  -26.93038479 -16.78761612  -8.61884442  -2.87282417\n",
      "   6.31503642  14.5540319   24.07651193  30.31631505  40.40654409\n",
      "  47.55934178  57.15439648  63.47719128  73.20745769  81.15588224\n",
      "  91.34177955]\n"
     ]
    },
    {
     "data": {
      "text/plain": [
       "Text(0.5,1,'Line simulated at A=3, B=5')"
      ]
     },
     "execution_count": 7,
     "metadata": {},
     "output_type": "execute_result"
    },
    {
     "data": {
      "image/png": "[encoded data removed]",
      "text/plain": [
       "<Figure size 432x288 with 1 Axes>"
      ]
     },
     "metadata": {},
     "output_type": "display_data"
    }
   ],
   "source": [
    "print(\"linefit.evaluate() =\", linefit.evaluate())\n",
    "print(\"linefit.residual() =\", linefit.residual())\n",
    "plt.plot(xobs, yobs, 'x', linedata.x, linefit.evaluate(), '-')\n",
    "plt.title('Line simulated at A=3, B=5')"
   ]
  },
  {
   "cell_type": "markdown",
   "metadata": {},
   "source": [
    " We want to find the optimum model parameters that fit the simulated curve\n",
    " to the observations.  This is done by associating FitContribution with\n",
    " a FitRecipe object.  FitRecipe can manage multiple fit contributions and\n",
    " optimize all models to fit their respective profiles."
   ]
  },
  {
   "cell_type": "code",
   "execution_count": 8,
   "metadata": {},
   "outputs": [],
   "source": [
    "from diffpy.srfit.fitbase import FitRecipe\n",
    "rec = FitRecipe()"
   ]
  },
  {
   "cell_type": "markdown",
   "metadata": {},
   "source": [
    "The `clearFitHooks()` function suppresses printout of iteration numbers.  The `addContribution()` function includes the specified FitContribution in the FitRecipe, which acts as a top-level manager of all associated fits. "
   ]
  },
  {
   "cell_type": "code",
   "execution_count": 9,
   "metadata": {},
   "outputs": [
    {
     "name": "stdout",
     "output_type": "stream",
     "text": [
      "Parameters\n",
      "------------------------------------------------------------------------------\n",
      "linefit.x   [-10.  -9.  -8.  -7.  -6.  -5.  -4.  -3.  -2.  -1.   0.   1.   2. \n",
      "linefit.y   [-2.25732318 -1.81680003 -1.3006876  -0.4462725   0.5235874   0.72\n",
      "linefit.dy  [0.3 0.3 0.3 0.3 0.3 0.3 0.3 0.3 0.3 0.3 0.3 0.3 0.3 0.3 0.3 0.3 0\n",
      "linefit.A   3\n",
      "linefit.B   5\n"
     ]
    }
   ],
   "source": [
    "rec.clearFitHooks()\n",
    "rec.addContribution(linefit)\n",
    "rec.show()"
   ]
  },
  {
   "cell_type": "markdown",
   "metadata": {},
   "source": [
    " FitContributions may have many parameters.  We need to tell the recipe\n",
    " which of them should be controlled and potentially optimized in a fit."
   ]
  },
  {
   "cell_type": "code",
   "execution_count": 10,
   "metadata": {},
   "outputs": [
    {
     "data": {
      "text/plain": [
       "<diffpy.srfit.fitbase.parameter.ParameterProxy at 0x7faea42e2210>"
      ]
     },
     "execution_count": 10,
     "metadata": {},
     "output_type": "execute_result"
    }
   ],
   "source": [
    "rec.addVar(rec.linefit.A)\n",
    "rec.addVar(rec.linefit.B)"
   ]
  },
  {
   "cell_type": "markdown",
   "metadata": {},
   "source": [
    " The call of the addVar function also created two attributes A and B for the rec object,\n",
    " which link to the A and B parameters of the linefit contribution.\n"
   ]
  },
  {
   "cell_type": "code",
   "execution_count": 11,
   "metadata": {},
   "outputs": [
    {
     "name": "stdout",
     "output_type": "stream",
     "text": [
      "rec.A = ParameterProxy(A)\n",
      "rec.A.value = 3\n"
     ]
    }
   ],
   "source": [
    "print(\"rec.A =\", rec.A)\n",
    "print(\"rec.A.value =\", rec.A.value)"
   ]
  },
  {
   "cell_type": "markdown",
   "metadata": {},
   "source": [
    " The names of the declared variables are stored in the `rec.names` attribute\n",
    " and the corresponding values in `rec.values`."
   ]
  },
  {
   "cell_type": "code",
   "execution_count": 12,
   "metadata": {},
   "outputs": [
    {
     "name": "stdout",
     "output_type": "stream",
     "text": [
      "rec.values = [3 5]\n",
      "rec.names = ['A', 'B']\n"
     ]
    }
   ],
   "source": [
    "print(\"rec.values =\", rec.values)\n",
    "print(\"rec.names =\", rec.names)"
   ]
  },
  {
   "cell_type": "markdown",
   "metadata": {},
   "source": [
    " Finally the recipe objects provides a residual() function to calculate\n",
    " the difference between the observed and simulated values.  The residual\n",
    " function can accept a list of new variable values in the same order as\n",
    " rec.names."
   ]
  },
  {
   "cell_type": "code",
   "execution_count": 13,
   "metadata": {},
   "outputs": [
    {
     "name": "stdout",
     "output_type": "stream",
     "text": [
      "rec.residual() = [-75.80892275 -67.27733324 -58.997708   -51.84575833 -45.07862467\n",
      " -35.7383246  -26.93038479 -16.78761612  -8.61884442  -2.87282417\n",
      "   6.31503642  14.5540319   24.07651193  30.31631505  40.40654409\n",
      "  47.55934178  57.15439648  63.47719128  73.20745769  81.15588224\n",
      "  91.34177955]\n",
      "rec.residual([2, 4]) = [-45.80892275 -40.61066657 -35.66437466 -31.84575833 -28.41195801\n",
      " -22.40499127 -16.93038479 -10.12094946  -5.28551109  -2.87282417\n",
      "   2.98170309   7.88736524  14.07651193  16.98298171  23.73987742\n",
      "  27.55934178  33.82106315  36.81052461  43.20745769  47.82254891\n",
      "  54.67511288]\n"
     ]
    }
   ],
   "source": [
    "print(\"rec.residual() =\", rec.residual())\n",
    "print(\"rec.residual([2, 4]) =\", rec.residual([2, 4]))"
   ]
  },
  {
   "cell_type": "markdown",
   "metadata": {},
   "source": [
    "The FitRecipe.residual function can be directly used with the scipy\n",
    "leastsq function for minimizing a sum of squares."
   ]
  },
  {
   "cell_type": "code",
   "execution_count": 14,
   "metadata": {},
   "outputs": [
    {
     "data": {
      "text/plain": [
       "(array([0.50817995, 3.0055979 ]), 3)"
      ]
     },
     "execution_count": 14,
     "metadata": {},
     "output_type": "execute_result"
    }
   ],
   "source": [
    "from scipy.optimize import leastsq\n",
    "leastsq(rec.residual, rec.values)"
   ]
  },
  {
   "cell_type": "markdown",
   "metadata": {},
   "source": [
    " Recipe variables and the linked line-function parameters are set to the\n",
    " new optimized values."
   ]
  },
  {
   "cell_type": "code",
   "execution_count": 15,
   "metadata": {},
   "outputs": [
    {
     "name": "stdout",
     "output_type": "stream",
     "text": [
      "['A', 'B'] --> [0.50817995 3.0055979 ]\n",
      "Parameters\n",
      "------------------------------------------------------------------------------\n",
      "x   [-10.  -9.  -8.  -7.  -6.  -5.  -4.  -3.  -2.  -1.   0.   1.   2.   3.\n",
      "   \n",
      "y   [-2.25732318 -1.81680003 -1.3006876  -0.4462725   0.5235874   0.72149738\n",
      " \n",
      "dy  [0.3 0.3 0.3 0.3 0.3 0.3 0.3 0.3 0.3 0.3 0.3 0.3 0.3 0.3 0.3 0.3 0.3 0.3\n",
      " \n",
      "A   0.508179946089\n",
      "B   3.0055978962\n"
     ]
    }
   ],
   "source": [
    "print(rec.names, \"-->\", rec.values)\n",
    "linefit.show()"
   ]
  },
  {
   "cell_type": "markdown",
   "metadata": {},
   "source": [
    " The calculated function is available in the `ycalc` attribute of the profile.\n",
    " It can be also accessed from the `linefit` contribution attribute of the\n",
    " recipe as `rec.linefit.profile.ycalc`."
   ]
  },
  {
   "cell_type": "code",
   "execution_count": 16,
   "metadata": {},
   "outputs": [
    {
     "data": {
      "text/plain": [
       "Text(0.5,1,'Line fit using the leastsq least-squares optimizer')"
      ]
     },
     "execution_count": 16,
     "metadata": {},
     "output_type": "execute_result"
    },
    {
     "data": {
      "image/png": "[encoded data removed]",
      "text/plain": [
       "<Figure size 432x288 with 1 Axes>"
      ]
     },
     "metadata": {},
     "output_type": "display_data"
    }
   ],
   "source": [
    "plt.plot(linedata.x, linedata.y, 'x', linedata.x, linedata.ycalc, '-')\n",
    "plt.title('Line fit using the leastsq least-squares optimizer')"
   ]
  },
  {
   "cell_type": "markdown",
   "metadata": {},
   "source": [
    "The `FitRecipe.scalarResidual()` function returns the sum of squares and can\n",
    "be used with a minimizer that requires a scalar function:"
   ]
  },
  {
   "cell_type": "code",
   "execution_count": 17,
   "metadata": {},
   "outputs": [
    {
     "name": "stdout",
     "output_type": "stream",
     "text": [
      "Optimization terminated successfully.\n",
      "         Current function value: 19.816688\n",
      "         Iterations: 52\n",
      "         Function evaluations: 98\n",
      "['A', 'B'] --> [0.50817471 3.00557447]\n"
     ]
    },
    {
     "data": {
      "text/plain": [
       "Text(0.5,1,'Line fit using the fmin scalar optimizer')"
      ]
     },
     "execution_count": 17,
     "metadata": {},
     "output_type": "execute_result"
    },
    {
     "data": {
      "image/png": "[encoded data removed]",
      "text/plain": [
       "<Figure size 432x288 with 1 Axes>"
      ]
     },
     "metadata": {},
     "output_type": "display_data"
    }
   ],
   "source": [
    "from scipy.optimize import fmin\n",
    "fmin(rec.scalarResidual, [1, 1])\n",
    "print(rec.names, \"-->\", rec.values)\n",
    "plt.plot(linedata.x, linedata.y, 'x', linedata.x, linedata.ycalc, '-')\n",
    "plt.title('Line fit using the fmin scalar optimizer')"
   ]
  },
  {
   "cell_type": "markdown",
   "metadata": {},
   "source": [
    "For a converged fit recipe, the details of the fit can be extracted\n",
    " with the FitResults class."
   ]
  },
  {
   "cell_type": "code",
   "execution_count": 18,
   "metadata": {},
   "outputs": [
    {
     "name": "stdout",
     "output_type": "stream",
     "text": [
      "Overall\n",
      "------------------------------------------------------------------------------\n",
      "Residual       19.81668876\n",
      "Contributions  19.81668876\n",
      "Restraints     0.00000000\n",
      "Chi2           19.81668876\n",
      "Reduced Chi2   1.04298362\n",
      "Rw             0.06759515\n",
      "\n",
      "Variables\n",
      "------------------------------------------------------------------------------\n",
      "A  5.08174708e-01 +/- 1.08112497e-02\n",
      "B  3.00557447e+00 +/- 6.54653674e-02\n",
      "\n",
      "Variable Correlations greater than 25%\n",
      "------------------------------------------------------------------------------\n",
      "No correlations greater than 25%\n",
      "\n"
     ]
    }
   ],
   "source": [
    "from diffpy.srfit.fitbase import FitResults\n",
    "res = FitResults(rec)\n",
    "print(res)"
   ]
  },
  {
   "cell_type": "markdown",
   "metadata": {},
   "source": [
    "Variables defined in the recipe can be fixed to a constant value."
   ]
  },
  {
   "cell_type": "code",
   "execution_count": 19,
   "metadata": {},
   "outputs": [],
   "source": [
    "rec.fix(B=0)"
   ]
  },
  {
   "cell_type": "markdown",
   "metadata": {},
   "source": [
    "The fixed variables can be checked using the \"fixednames\" and\n",
    " \"fixedvalues\" attributes of a recipe."
   ]
  },
  {
   "cell_type": "code",
   "execution_count": 20,
   "metadata": {},
   "outputs": [
    {
     "name": "stdout",
     "output_type": "stream",
     "text": [
      "free: ['A'] --> ['A']\n",
      "fixed: ['B'] --> [0]\n"
     ]
    }
   ],
   "source": [
    "print(\"free:\", rec.names, \"-->\", rec.names)\n",
    "print(\"fixed:\", rec.fixednames, \"-->\", rec.fixedvalues)"
   ]
  },
  {
   "cell_type": "markdown",
   "metadata": {},
   "source": [
    "The fit can be rerun with a constant variable B."
   ]
  },
  {
   "cell_type": "code",
   "execution_count": 21,
   "metadata": {},
   "outputs": [
    {
     "name": "stdout",
     "output_type": "stream",
     "text": [
      "Overall\n",
      "------------------------------------------------------------------------------\n",
      "Residual       2127.66105386\n",
      "Contributions  2127.66105386\n",
      "Restraints     0.00000000\n",
      "Chi2           2127.66105386\n",
      "Reduced Chi2   106.38305269\n",
      "Rw             0.70040814\n",
      "\n",
      "Variables\n",
      "------------------------------------------------------------------------------\n",
      "A  5.08179945e-01 +/- 1.08112496e-02\n",
      "\n",
      "Fixed Variables\n",
      "------------------------------------------------------------------------------\n",
      "B  0.00000000e+00\n",
      "\n",
      "Variable Correlations greater than 25%\n",
      "------------------------------------------------------------------------------\n",
      "No correlations greater than 25%\n",
      "\n"
     ]
    },
    {
     "data": {
      "text/plain": [
       "Text(0.5,1,'Line fit for variable B fixed to B=0')"
      ]
     },
     "execution_count": 21,
     "metadata": {},
     "output_type": "execute_result"
    },
    {
     "data": {
      "image/png": "[encoded data removed]",
      "text/plain": [
       "<Figure size 432x288 with 1 Axes>"
      ]
     },
     "metadata": {},
     "output_type": "display_data"
    }
   ],
   "source": [
    "leastsq(rec.residual, rec.values)\n",
    "print(FitResults(rec))\n",
    "plt.plot(linedata.x, linedata.y, 'x', linedata.x, linedata.ycalc, '-')\n",
    "plt.title('Line fit for variable B fixed to B=0')"
   ]
  },
  {
   "cell_type": "markdown",
   "metadata": {},
   "source": [
    "Fixed variables may be released with the `free()` function.\n",
    " Calling it as `free(\"all\")` releases all fixed variables."
   ]
  },
  {
   "cell_type": "code",
   "execution_count": 22,
   "metadata": {},
   "outputs": [],
   "source": [
    "rec.free('all')"
   ]
  },
  {
   "cell_type": "markdown",
   "metadata": {},
   "source": [
    "Variables may be constrained to a result of an expression."
   ]
  },
  {
   "cell_type": "code",
   "execution_count": 23,
   "metadata": {},
   "outputs": [],
   "source": [
    "rec.constrain(rec.A, \"2 * B\")"
   ]
  },
  {
   "cell_type": "markdown",
   "metadata": {},
   "source": [
    "Perform linear fit where the slope value must be two times the offset."
   ]
  },
  {
   "cell_type": "code",
   "execution_count": 24,
   "metadata": {},
   "outputs": [
    {
     "name": "stdout",
     "output_type": "stream",
     "text": [
      "Overall\n",
      "------------------------------------------------------------------------------\n",
      "Residual       1774.37283655\n",
      "Contributions  1774.37283655\n",
      "Restraints     0.00000000\n",
      "Chi2           1774.37283655\n",
      "Reduced Chi2   88.71864183\n",
      "Rw             0.63962054\n",
      "\n",
      "Variables\n",
      "------------------------------------------------------------------------------\n",
      "B  2.72723210e-01 +/- 5.38729019e-03\n",
      "\n",
      "Variable Correlations greater than 25%\n",
      "------------------------------------------------------------------------------\n",
      "No correlations greater than 25%\n",
      "\n"
     ]
    },
    {
     "data": {
      "text/plain": [
       "Text(0.5,1,'Line fit for variable A constrained to A = 2*B')"
      ]
     },
     "execution_count": 24,
     "metadata": {},
     "output_type": "execute_result"
    },
    {
     "data": {
      "image/png": "[encoded data removed]",
      "text/plain": [
       "<Figure size 432x288 with 1 Axes>"
      ]
     },
     "metadata": {},
     "output_type": "display_data"
    }
   ],
   "source": [
    "leastsq(rec.residual, rec.values)\n",
    "print(FitResults(rec))\n",
    "plt.plot(linedata.x, linedata.y, 'x', linedata.x, linedata.ycalc, '-')\n",
    "plt.title('Line fit for variable A constrained to A = 2*B')"
   ]
  },
  {
   "cell_type": "markdown",
   "metadata": {},
   "source": [
    "Constraint expressions can be removed by calling the unconstrain function."
   ]
  },
  {
   "cell_type": "code",
   "execution_count": 25,
   "metadata": {},
   "outputs": [],
   "source": [
    "rec.unconstrain(rec.A)"
   ]
  },
  {
   "cell_type": "markdown",
   "metadata": {},
   "source": [
    " Variables may be restrained to a specific range.  Here \"ub\" is the upper\n",
    " boundary and \"sig\" acts as a standard deviation for ((x - ub)/sig)**2\n",
    " penalty function."
   ]
  },
  {
   "cell_type": "code",
   "execution_count": 26,
   "metadata": {},
   "outputs": [],
   "source": [
    "arst = rec.restrain(rec.A, ub=0.2, sig=0.001)"
   ]
  },
  {
   "cell_type": "markdown",
   "metadata": {},
   "source": [
    "Perform fit with the line slope restrained to a maximum value of 0.2:"
   ]
  },
  {
   "cell_type": "code",
   "execution_count": 27,
   "metadata": {},
   "outputs": [
    {
     "name": "stdout",
     "output_type": "stream",
     "text": [
      "Overall\n",
      "------------------------------------------------------------------------------\n",
      "Residual       825.48658987\n",
      "Contributions  818.65210916\n",
      "Restraints     6.83448071\n",
      "Chi2           818.65210916\n",
      "Reduced Chi2   40.93260546\n",
      "Rw             0.43445986\n",
      "\n",
      "Variables\n",
      "------------------------------------------------------------------------------\n",
      "A  2.02614284e-01 +/- 9.95749478e-04\n",
      "B  3.00559789e+00 +/- 6.54653668e-02\n",
      "\n",
      "Variable Correlations greater than 25%\n",
      "------------------------------------------------------------------------------\n",
      "No correlations greater than 25%\n",
      "\n"
     ]
    },
    {
     "data": {
      "text/plain": [
       "Text(0.5,1,'Line fit with A restrained to an upper bound of 0.2')"
      ]
     },
     "execution_count": 27,
     "metadata": {},
     "output_type": "execute_result"
    },
    {
     "data": {
      "image/png": "[encoded data removed]",
      "text/plain": [
       "<Figure size 432x288 with 1 Axes>"
      ]
     },
     "metadata": {},
     "output_type": "display_data"
    }
   ],
   "source": [
    "leastsq(rec.residual, rec.values)\n",
    "print(FitResults(rec))\n",
    "plt.plot(linedata.x, linedata.y, 'x', linedata.x, linedata.ycalc, '-')\n",
    "plt.title('Line fit with A restrained to an upper bound of 0.2')"
   ]
  },
  {
   "cell_type": "code",
   "execution_count": null,
   "metadata": {},
   "outputs": [],
   "source": []
  }
 ],
 "metadata": {
  "kernelspec": {
   "display_name": "Python 2",
   "language": "python",
   "name": "python2"
  },
  "language_info": {
   "codemirror_mode": {
    "name": "ipython",
    "version": 2
   },
   "file_extension": ".py",
   "mimetype": "text/x-python",
   "name": "python",
   "nbconvert_exporter": "python",
   "pygments_lexer": "ipython2",
   "version": "2.7.15"
  }
 },
 "nbformat": 4,
 "nbformat_minor": 1
}
