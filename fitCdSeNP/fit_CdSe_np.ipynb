{
 "cells": [
  {
   "cell_type": "markdown",
   "metadata": {},
   "source": [
    "# Fit CdSe Nanoparticle PDF\n",
    "\n",
    "This is an example of using the DiffPy-CMI framework to fit a X-ray PDF of\n",
    "CdSe Nanoparticles.  It shows how to build a simple fit recipe using a PDF\n",
    "data file and fit it using a non-periodic nanoparticle structure model.\n",
    "\n",
    "To adapt this example to fit your own data, replace the ``dataFile`` and\n",
    "``structureFile``.  You may need modify some variable names and the ADP to fit\n",
    "your own structure model.\n"
   ]
  },
  {
   "cell_type": "code",
   "execution_count": 25,
   "metadata": {},
   "outputs": [],
   "source": [
    "from __future__ import print_function\n",
    "\n",
    "# We'll need numpy and matplotlib for plotting our results\n",
    "import numpy as np\n",
    "import matplotlib.pyplot as plt\n",
    "\n",
    "# A least squares fitting algorithm from scipy\n",
    "from scipy.optimize.minpack import leastsq\n",
    "\n",
    "# DiffPy-CMI modules for building a fitting recipe\n",
    "from diffpy.Structure import loadStructure\n",
    "from diffpy.srfit.pdf import PDFContribution\n",
    "from diffpy.srfit.fitbase import FitRecipe, FitResults\n",
    "\n",
    "%matplotlib notebook"
   ]
  },
  {
   "cell_type": "markdown",
   "metadata": {},
   "source": [
    " Files containing our experimental data and structure file\n"
   ]
  },
  {
   "cell_type": "code",
   "execution_count": 2,
   "metadata": {},
   "outputs": [],
   "source": [
    "dataFile = \"cdse.gr\"\n",
    "structureFile = \"cdse.xyz\""
   ]
  },
  {
   "cell_type": "markdown",
   "metadata": {},
   "source": [
    " The first thing to construct is a contribution. Since this is a simple example, the contribution will simply contain our PDF data and an associated structure file. We'll give it the  name \"cdse\"."
   ]
  },
  {
   "cell_type": "code",
   "execution_count": 3,
   "metadata": {},
   "outputs": [],
   "source": [
    "cdsePDF = PDFContribution(\"CdSe\")"
   ]
  },
  {
   "cell_type": "markdown",
   "metadata": {},
   "source": [
    "Load the data and set the r-range over which we'll fit.\n"
   ]
  },
  {
   "cell_type": "code",
   "execution_count": 4,
   "metadata": {},
   "outputs": [],
   "source": [
    "cdsePDF.loadData(dataFile)\n",
    "cdsePDF.setCalculationRange(xmin=1, xmax=20, dx=0.01)"
   ]
  },
  {
   "cell_type": "markdown",
   "metadata": {},
   "source": [
    "Add the structure from our xyz file to the contribution, since the structure model is non-periodic, we need to specify the periodic=False here to get the right PDF."
   ]
  },
  {
   "cell_type": "code",
   "execution_count": 5,
   "metadata": {},
   "outputs": [],
   "source": [
    "cdseStructure = loadStructure(structureFile)\n",
    "cdsePDF.addStructure(\"CdSe\", cdseStructure, periodic=False);"
   ]
  },
  {
   "cell_type": "markdown",
   "metadata": {},
   "source": [
    "The FitRecipe does the work of managing one or more contributions that are optimized together.  In addition, FitRecipe configures fit variables that are tied to the model parameters and thus controls the calculated profiles.\n"
   ]
  },
  {
   "cell_type": "code",
   "execution_count": 6,
   "metadata": {},
   "outputs": [],
   "source": [
    "cdseFit = FitRecipe()"
   ]
  },
  {
   "cell_type": "markdown",
   "metadata": {},
   "source": [
    "Give the PDFContribution to the FitRecipe\n"
   ]
  },
  {
   "cell_type": "code",
   "execution_count": 7,
   "metadata": {},
   "outputs": [],
   "source": [
    "cdseFit.addContribution(cdsePDF)"
   ]
  },
  {
   "cell_type": "markdown",
   "metadata": {},
   "source": [
    "Here we create variables for the overall scale of the PDF and a delta2 parameter for correlated motion of neighboring atoms."
   ]
  },
  {
   "cell_type": "code",
   "execution_count": 8,
   "metadata": {},
   "outputs": [
    {
     "data": {
      "text/plain": [
       "<diffpy.srfit.fitbase.parameter.ParameterProxy at 0x7fab1a3b9150>"
      ]
     },
     "execution_count": 8,
     "metadata": {},
     "output_type": "execute_result"
    }
   ],
   "source": [
    "cdseFit.addVar(cdsePDF.scale, 1)\n",
    "cdseFit.addVar(cdsePDF.CdSe.delta2, 5)\n"
   ]
  },
  {
   "cell_type": "markdown",
   "metadata": {},
   "source": [
    "We fix Qdamp based on prior information about our beamline."
   ]
  },
  {
   "cell_type": "code",
   "execution_count": 9,
   "metadata": {},
   "outputs": [
    {
     "data": {
      "text/plain": [
       "<diffpy.srfit.fitbase.parameter.ParameterProxy at 0x7fab1a8b6210>"
      ]
     },
     "execution_count": 9,
     "metadata": {},
     "output_type": "execute_result"
    }
   ],
   "source": [
    "cdseFit.addVar(cdsePDF.qdamp, 0.06, fixed=True)"
   ]
  },
  {
   "cell_type": "markdown",
   "metadata": {},
   "source": [
    " Since we are calculating PDF from a non-periodic structure, we also need to specify the Qmin to get he correct PDF. The value of Qmin could be the actual Qmin in the experiment or the Qmin used in PDF transformation, or some value related to the size and the shape of the structure model. \n",
    " \n",
    " Usually a value in (0.5 ~ 1.0) will give reasonable  results.\n"
   ]
  },
  {
   "cell_type": "code",
   "execution_count": 10,
   "metadata": {},
   "outputs": [],
   "source": [
    "cdsePDF.CdSe.setQmin(1.0)"
   ]
  },
  {
   "cell_type": "markdown",
   "metadata": {},
   "source": [
    "The Qmax used in PDF transformation should also be specfied\n"
   ]
  },
  {
   "cell_type": "code",
   "execution_count": 11,
   "metadata": {},
   "outputs": [],
   "source": [
    "cdsePDF.CdSe.setQmax(20.0)"
   ]
  },
  {
   "cell_type": "markdown",
   "metadata": {},
   "source": [
    " We create the variables of ADP and assign the initial value to them. In this example, we use isotropic ADP for all atoms"
   ]
  },
  {
   "cell_type": "code",
   "execution_count": 12,
   "metadata": {},
   "outputs": [],
   "source": [
    "CdBiso = cdseFit.newVar(\"Cd_Biso\", value=1.0)\n",
    "SeBiso = cdseFit.newVar(\"Se_Biso\", value=1.0)"
   ]
  },
  {
   "cell_type": "markdown",
   "metadata": {},
   "source": [
    "For all atoms in the structure model, we constrain their Biso according to their species."
   ]
  },
  {
   "cell_type": "code",
   "execution_count": 13,
   "metadata": {},
   "outputs": [],
   "source": [
    "atoms = cdsePDF.CdSe.phase.getScatterers()\n",
    "for atom in atoms:\n",
    "    if atom.element == 'Cd':\n",
    "        cdseFit.constrain(atom.Biso, CdBiso)\n",
    "    elif atom.element == 'Se':\n",
    "        cdseFit.constrain(atom.Biso, SeBiso)"
   ]
  },
  {
   "cell_type": "markdown",
   "metadata": {},
   "source": [
    "Now we create a zoomscale factor which stretches the structure model, this is useful when you want to fit the bond length. Note that the relative position of atoms are not changed during the refinements."
   ]
  },
  {
   "cell_type": "code",
   "execution_count": 14,
   "metadata": {},
   "outputs": [],
   "source": [
    "zoomscale = cdseFit.newVar('zoomscale', value=1.0)"
   ]
  },
  {
   "cell_type": "markdown",
   "metadata": {},
   "source": [
    "Here is a simple we to assign the zoomscale to the structure. Note that this only works for NON-PERIODIC structure"
   ]
  },
  {
   "cell_type": "code",
   "execution_count": 15,
   "metadata": {},
   "outputs": [],
   "source": [
    "lattice = cdsePDF.CdSe.phase.getLattice()\n",
    "cdseFit.constrain(lattice.a, zoomscale)\n",
    "cdseFit.constrain(lattice.b, zoomscale)\n",
    "cdseFit.constrain(lattice.c, zoomscale)"
   ]
  },
  {
   "cell_type": "markdown",
   "metadata": {},
   "source": [
    " Turn off printout of iteration number.\n"
   ]
  },
  {
   "cell_type": "code",
   "execution_count": 16,
   "metadata": {},
   "outputs": [],
   "source": [
    "cdseFit.clearFitHooks()"
   ]
  },
  {
   "cell_type": "markdown",
   "metadata": {},
   "source": [
    "We can now execute the fit using scipy's least square optimizer."
   ]
  },
  {
   "cell_type": "code",
   "execution_count": 17,
   "metadata": {},
   "outputs": [
    {
     "name": "stdout",
     "output_type": "stream",
     "text": [
      "  variables: ['scale', 'delta2', 'Cd_Biso', 'Se_Biso', 'zoomscale']\n",
      "  initial values: [1. 5. 1. 1. 1.]\n"
     ]
    }
   ],
   "source": [
    "print(\"  variables:\", cdseFit.names)\n",
    "print(\"  initial values:\", cdseFit.values)"
   ]
  },
  {
   "cell_type": "code",
   "execution_count": 18,
   "metadata": {},
   "outputs": [
    {
     "data": {
      "text/plain": [
       "(array([0.35245771, 5.32907   , 3.45482665, 1.40414758, 0.99423982]), 1)"
      ]
     },
     "execution_count": 18,
     "metadata": {},
     "output_type": "execute_result"
    }
   ],
   "source": [
    "leastsq(cdseFit.residual, cdseFit.values)"
   ]
  },
  {
   "cell_type": "code",
   "execution_count": 19,
   "metadata": {},
   "outputs": [
    {
     "name": "stdout",
     "output_type": "stream",
     "text": [
      "  variables: ['scale', 'delta2', 'Cd_Biso', 'Se_Biso', 'zoomscale']\n",
      "  final values: [0.35245771 5.32907    3.45482665 1.40414758 0.99423982]\n"
     ]
    }
   ],
   "source": [
    "print(\"  variables:\", cdseFit.names)\n",
    "print(\"  final values:\", cdseFit.values)\n"
   ]
  },
  {
   "cell_type": "markdown",
   "metadata": {},
   "source": [
    "Obtain and display the fit results.\n"
   ]
  },
  {
   "cell_type": "code",
   "execution_count": 20,
   "metadata": {},
   "outputs": [
    {
     "name": "stdout",
     "output_type": "stream",
     "text": [
      "FIT RESULTS\n",
      "\n",
      "Some quantities invalid due to missing profile uncertainty\n",
      "Overall (Chi2 and Reduced Chi2 invalid)\n",
      "------------------------------------------------------------------------------\n",
      "Residual       0.74288523\n",
      "Contributions  0.74288523\n",
      "Restraints     0.00000000\n",
      "Chi2           0.74288523\n",
      "Reduced Chi2   0.00039182\n",
      "Rw             0.11338206\n",
      "\n",
      "Variables (Uncertainties invalid)\n",
      "------------------------------------------------------------------------------\n",
      "Cd_Biso    3.45482665e+00 +/- 2.70605073e+00\n",
      "Se_Biso    1.40414758e+00 +/- 2.79922987e+00\n",
      "delta2     5.32907000e+00 +/- 9.03482485e-01\n",
      "scale      3.52457714e-01 +/- 6.73140109e-02\n",
      "zoomscale  9.94239823e-01 +/- 6.23799868e-03\n",
      "\n",
      "Fixed Variables\n",
      "------------------------------------------------------------------------------\n",
      "qdamp  6.00000000e-02\n",
      "\n",
      "Variable Correlations greater than 25% (Correlations invalid)\n",
      "------------------------------------------------------------------------------\n",
      "corr(Cd_Biso, Se_Biso)   -0.8030\n",
      "corr(scale, Cd_Biso)     0.4995\n",
      "corr(delta2, Se_Biso)    0.3421\n",
      "\n"
     ]
    }
   ],
   "source": [
    "cdseResults = FitResults(cdseFit)\n",
    "print(\"FIT RESULTS\\n\")\n",
    "print(cdseResults)"
   ]
  },
  {
   "cell_type": "markdown",
   "metadata": {},
   "source": [
    "Plot the observed and refined PDF.  First, gather the experimental data from the recipe."
   ]
  },
  {
   "cell_type": "code",
   "execution_count": 21,
   "metadata": {},
   "outputs": [],
   "source": [
    "r = cdseFit.CdSe.profile.x\n",
    "gobs = cdseFit.CdSe.profile.y"
   ]
  },
  {
   "cell_type": "markdown",
   "metadata": {},
   "source": [
    "Get the calculated PDF and compute the difference between the calculated and measured PDF"
   ]
  },
  {
   "cell_type": "code",
   "execution_count": 22,
   "metadata": {},
   "outputs": [],
   "source": [
    "gcalc = cdseFit.CdSe.evaluate()\n",
    "baseline = 1.1 * gobs.min()\n",
    "gdiff = gobs - gcalc"
   ]
  },
  {
   "cell_type": "markdown",
   "metadata": {},
   "source": [
    "Finally, show the plot!"
   ]
  },
  {
   "cell_type": "code",
   "execution_count": 24,
   "metadata": {},
   "outputs": [
    {
     "data": {
      "text/plain": [
       "<matplotlib.legend.Legend at 0x7fab1956a210>"
      ]
     },
     "execution_count": 24,
     "metadata": {},
     "output_type": "execute_result"
    },
    {
     "data": {
      "image/png": "[encoded data removed]",
      "text/plain": [
       "<Figure size 432x288 with 1 Axes>"
      ]
     },
     "metadata": {},
     "output_type": "display_data"
    }
   ],
   "source": [
    "# Plot!\n",
    "plt.figure()\n",
    "plt.plot(r, gobs, 'o', color='.5', label=\"G(r) data\",alpha=.5)\n",
    "plt.plot(r, gcalc, 'b-', label=\"G(r) fit\")\n",
    "plt.plot(r, gdiff + baseline, 'r-', label=\"G(r) diff\")\n",
    "plt.plot(r, np.zeros_like(r) + baseline, 'k:')\n",
    "plt.xlabel(r\"$r (\\AA)$\")\n",
    "plt.ylabel(r\"$G (\\AA^{-2})$\")\n",
    "plt.legend()\n",
    "\n"
   ]
  },
  {
   "cell_type": "code",
   "execution_count": null,
   "metadata": {},
   "outputs": [],
   "source": []
  }
 ],
 "metadata": {
  "kernelspec": {
   "display_name": "Python 2",
   "language": "python",
   "name": "python2"
  },
  "language_info": {
   "codemirror_mode": {
    "name": "ipython",
    "version": 2
   },
   "file_extension": ".py",
   "mimetype": "text/x-python",
   "name": "python",
   "nbconvert_exporter": "python",
   "pygments_lexer": "ipython2",
   "version": "2.7.15"
  }
 },
 "nbformat": 4,
 "nbformat_minor": 2
}
