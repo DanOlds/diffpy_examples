{
 "cells": [
  {
   "cell_type": "markdown",
   "metadata": {},
   "source": [
    " # Calculate bond valence sums for NaCl\n"
   ]
  },
  {
   "cell_type": "markdown",
   "metadata": {},
   "source": [
    "This example shows how to evaluate bond valence sums using the `diffpy.srreal`\n",
    "module in DiffPy-CMI.  BVS calculator uses a standard set of bond valence\n",
    "parameters obtained from a lookup table.  Bond valence parameters can be\n",
    "set to custom values.  Multiple BVS calculator objects can be created,\n",
    "where each one has separate lookup table and optionally different valence\n",
    "parameters."
   ]
  },
  {
   "cell_type": "code",
   "execution_count": 3,
   "metadata": {},
   "outputs": [],
   "source": [
    "from __future__ import print_function\n",
    "from diffpy.Structure import loadStructure\n",
    "from diffpy.srreal.bvscalculator import BVSCalculator"
   ]
  },
  {
   "cell_type": "markdown",
   "metadata": {},
   "source": [
    "Create a structure object by loading the NaCl.cif file using 'loadStructure' command.  We will call the structure-object 'nacl'.  "
   ]
  },
  {
   "cell_type": "code",
   "execution_count": 19,
   "metadata": {},
   "outputs": [],
   "source": [
    "nacl = loadStructure('NaCl.cif')"
   ]
  },
  {
   "cell_type": "markdown",
   "metadata": {},
   "source": [
    "Note that once loaded, you can access a wide variety of information about the cell in a straightforward way."
   ]
  },
  {
   "cell_type": "code",
   "execution_count": 13,
   "metadata": {},
   "outputs": [
    {
     "data": {
      "text/plain": [
       "Lattice(a=5.62, b=5.62, c=5.62, alpha=90, beta=90, gamma=90)"
      ]
     },
     "execution_count": 13,
     "metadata": {},
     "output_type": "execute_result"
    }
   ],
   "source": [
    "nacl.lattice"
   ]
  },
  {
   "cell_type": "code",
   "execution_count": 14,
   "metadata": {},
   "outputs": [
    {
     "data": {
      "text/plain": [
       "{'Cl1-': 4.0, 'Na1+': 4.0}"
      ]
     },
     "execution_count": 14,
     "metadata": {},
     "output_type": "execute_result"
    }
   ],
   "source": [
    "nacl.composition"
   ]
  },
  {
   "cell_type": "code",
   "execution_count": 16,
   "metadata": {},
   "outputs": [
    {
     "data": {
      "text/plain": [
       "array([[0. , 0. , 0. ],\n",
       "       [0. , 0.5, 0.5],\n",
       "       [0.5, 0. , 0.5],\n",
       "       [0.5, 0.5, 0. ],\n",
       "       [0.5, 0.5, 0.5],\n",
       "       [0.5, 0. , 0. ],\n",
       "       [0. , 0.5, 0. ],\n",
       "       [0. , 0. , 0.5]])"
      ]
     },
     "execution_count": 16,
     "metadata": {},
     "output_type": "execute_result"
    }
   ],
   "source": [
    "nacl.xyz"
   ]
  },
  {
   "cell_type": "markdown",
   "metadata": {},
   "source": [
    "To see all the options while in jupyter, press tab after placing a period at the end of the variable name, and a list should pop up.\n",
    "\n",
    "Back to the task at hand, we will now create a bond valence sum calculator object (similar to how we made a structure object)."
   ]
  },
  {
   "cell_type": "code",
   "execution_count": 24,
   "metadata": {},
   "outputs": [],
   "source": [
    "bvsc = BVSCalculator()"
   ]
  },
  {
   "cell_type": "markdown",
   "metadata": {},
   "source": [
    "Again, you can explore the various options available in this object by placing a period after the variable name, and pressing tab in jupyter.  If you wanted more detailed information about this object, you can put a '?' after the variable name, and the associated help documentation will pop up.  This is true of pretty much anything in python, not just diffpy routines."
   ]
  },
  {
   "cell_type": "code",
   "execution_count": 28,
   "metadata": {},
   "outputs": [],
   "source": [
    "bvsc?"
   ]
  },
  {
   "cell_type": "markdown",
   "metadata": {},
   "source": [
    "To run the bond valance sum calculation, simply pass the structure object that was created into it, and pass the results into a new variable we will call 'vsim'. "
   ]
  },
  {
   "cell_type": "code",
   "execution_count": 32,
   "metadata": {},
   "outputs": [],
   "source": [
    "vsim = bvsc(nacl)"
   ]
  },
  {
   "cell_type": "markdown",
   "metadata": {},
   "source": [
    "We can now access the results of the calculation directly through this 'vsim' object.  Note bvsc.valences will hold the expected values of the valences, while bvsc.value holds the calculated value."
   ]
  },
  {
   "cell_type": "code",
   "execution_count": 30,
   "metadata": {},
   "outputs": [
    {
     "data": {
      "text/plain": [
       "array([ 1.,  1.,  1.,  1., -1., -1., -1., -1.])"
      ]
     },
     "execution_count": 30,
     "metadata": {},
     "output_type": "execute_result"
    }
   ],
   "source": [
    "bvsc.valences"
   ]
  },
  {
   "cell_type": "code",
   "execution_count": 1,
   "metadata": {},
   "outputs": [
    {
     "name": "stdout",
     "output_type": "stream",
     "text": [
      "Calculate bond valence sums for NaCl \"bvsc(nacl)\"\n",
      "expected \"bvsc.valences\":\n",
      "  [ 1.  1.  1.  1. -1. -1. -1. -1.]\n",
      "calculated \"bvsc.value\":\n",
      "  [ 1.01352005  1.01352005  1.01352005  1.01352005 -1.01352005 -1.01352005\n",
      " -1.01352005 -1.01352005]\n",
      "difference \"bvsc.bvdiff\":\n",
      "  [-0.01352005 -0.01352005 -0.01352005 -0.01352005 -0.01352005 -0.01352005\n",
      " -0.01352005 -0.01352005]\n",
      "root mean square difference \"bvsc.bvrmsdiff\": 0.0135200525429\n",
      "\n",
      "BVS in NaCl with alternate parameters:\n",
      "  [ 0.98303217  0.98303217  0.98303217  0.98303217 -0.98303217 -0.98303217\n",
      " -0.98303217 -0.98303217]\n",
      "\n",
      "Standard lookup of bond valence parameters:\n",
      "  BVParam('Na', 1, 'Cl', -1, Ro=2.15, B=0.37, ref_id='b')\n",
      "  BVParam('Na', 1, 'Br', -1, Ro=2.33, B=0.37, ref_id='b')\n",
      "\n",
      "Handling of unknown or invalid ion pairs:\n",
      "  table.lookup('A+', 'X-'): BVParam()\n",
      "  table.lookup('A+', 'X-') == table.none(): True\n"
     ]
    }
   ],
   "source": [
    "\n",
    "\n",
    "# calculate BVS and print the expected and actual valences\n",
    "vsim = bvsc(nacl)\n",
    "print('Calculate bond valence sums for NaCl \"bvsc(nacl)\"')\n",
    "print('expected \"bvsc.valences\":\\n ', bvsc.valences)\n",
    "print('calculated \"bvsc.value\":\\n ' , vsim)\n",
    "print('difference \"bvsc.bvdiff\":\\n ', bvsc.bvdiff)\n",
    "print('root mean square difference \"bvsc.bvrmsdiff\":', bvsc.bvrmsdiff)\n",
    "print()\n",
    "\n",
    "# create new BVS calculator with a custom bond valence parameters\n",
    "bvsc2 = BVSCalculator()\n",
    "\n",
    "# Use alternate value for the Na+ Cl- bond valence parameters from\n",
    "# http://www.iucr.org/__data/assets/file/0018/59004/bvparm2011.cif\n",
    "# These parameters have 6A cutoff.\n",
    "bvsc2.bvparamtable.setCustom('Na', +1, 'Cl', -1, Ro=1.6833, B=0.608)\n",
    "bvsc2.rmax = 6\n",
    "print(\"BVS in NaCl with alternate parameters:\\n \", bvsc2(nacl))\n",
    "print()\n",
    "\n",
    "# Lookup table of bond valence parameters can be used as separate object.\n",
    "from diffpy.srreal.bvparameterstable import BVParametersTable\n",
    "\n",
    "table = BVParametersTable()\n",
    "bp = table.lookup('Na+', 'Cl-')\n",
    "bp2 = table.lookup('Na', +1, 'Br', -1)\n",
    "print(\"Standard lookup of bond valence parameters:\")\n",
    "print(\" \", bp)\n",
    "print(\" \", bp2)\n",
    "print()\n",
    "\n",
    "print(\"Handling of unknown or invalid ion pairs:\")\n",
    "print(\"  table.lookup('A+', 'X-'):\", table.lookup('A+', 'X-'))\n",
    "print(\"  table.lookup('A+', 'X-') == table.none():\",\n",
    "      table.lookup('A+', 'X-') == table.none())\n"
   ]
  },
  {
   "cell_type": "code",
   "execution_count": null,
   "metadata": {},
   "outputs": [],
   "source": []
  }
 ],
 "metadata": {
  "kernelspec": {
   "display_name": "Python 2",
   "language": "python",
   "name": "python2"
  },
  "language_info": {
   "codemirror_mode": {
    "name": "ipython",
    "version": 2
   },
   "file_extension": ".py",
   "mimetype": "text/x-python",
   "name": "python",
   "nbconvert_exporter": "python",
   "pygments_lexer": "ipython2",
   "version": "2.7.15"
  }
 },
 "nbformat": 4,
 "nbformat_minor": 2
}
