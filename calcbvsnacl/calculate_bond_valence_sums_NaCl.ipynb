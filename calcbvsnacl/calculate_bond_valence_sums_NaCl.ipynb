{
 "cells": [
  {
   "cell_type": "markdown",
   "metadata": {},
   "source": [
    " # Calculate bond valence sums for NaCl\n"
   ]
  },
  {
   "cell_type": "markdown",
   "metadata": {},
   "source": [
    "This example shows how to evaluate bond valence sums using the `diffpy.srreal`\n",
    "module in DiffPy-CMI.  BVS calculator uses a standard set of bond valence\n",
    "parameters obtained from a lookup table.  Bond valence parameters can be\n",
    "set to custom values.  Multiple BVS calculator objects can be created,\n",
    "where each one has separate lookup table and optionally different valence\n",
    "parameters."
   ]
  },
  {
   "cell_type": "code",
   "execution_count": 3,
   "metadata": {
    "collapsed": true
   },
   "outputs": [],
   "source": [
    "from __future__ import print_function\n",
    "from diffpy.Structure import loadStructure\n",
    "from diffpy.srreal.bvscalculator import BVSCalculator, BVParametersTable\n"
   ]
  },
  {
   "cell_type": "markdown",
   "metadata": {},
   "source": [
    "Create a structure object by loading the NaCl.cif file using 'loadStructure' command.  We will call the structure-object 'nacl'.  "
   ]
  },
  {
   "cell_type": "code",
   "execution_count": 19,
   "metadata": {
    "collapsed": true
   },
   "outputs": [],
   "source": [
    "nacl = loadStructure('NaCl.cif')"
   ]
  },
  {
   "cell_type": "markdown",
   "metadata": {},
   "source": [
    "Note that once loaded, you can access a wide variety of information about the cell in a straightforward way."
   ]
  },
  {
   "cell_type": "code",
   "execution_count": 13,
   "metadata": {},
   "outputs": [
    {
     "data": {
      "text/plain": [
       "Lattice(a=5.62, b=5.62, c=5.62, alpha=90, beta=90, gamma=90)"
      ]
     },
     "execution_count": 13,
     "metadata": {},
     "output_type": "execute_result"
    }
   ],
   "source": [
    "nacl.lattice"
   ]
  },
  {
   "cell_type": "code",
   "execution_count": 14,
   "metadata": {},
   "outputs": [
    {
     "data": {
      "text/plain": [
       "{'Cl1-': 4.0, 'Na1+': 4.0}"
      ]
     },
     "execution_count": 14,
     "metadata": {},
     "output_type": "execute_result"
    }
   ],
   "source": [
    "nacl.composition"
   ]
  },
  {
   "cell_type": "code",
   "execution_count": 16,
   "metadata": {},
   "outputs": [
    {
     "data": {
      "text/plain": [
       "array([[0. , 0. , 0. ],\n",
       "       [0. , 0.5, 0.5],\n",
       "       [0.5, 0. , 0.5],\n",
       "       [0.5, 0.5, 0. ],\n",
       "       [0.5, 0.5, 0.5],\n",
       "       [0.5, 0. , 0. ],\n",
       "       [0. , 0.5, 0. ],\n",
       "       [0. , 0. , 0.5]])"
      ]
     },
     "execution_count": 16,
     "metadata": {},
     "output_type": "execute_result"
    }
   ],
   "source": [
    "nacl.xyz"
   ]
  },
  {
   "cell_type": "markdown",
   "metadata": {},
   "source": [
    "To see all the options while in jupyter, press tab after placing a period at the end of the variable name, and a list should pop up.\n",
    "\n",
    "Back to the task at hand, we will now create a bond valence sum calculator object (similar to how we made a structure object)."
   ]
  },
  {
   "cell_type": "code",
   "execution_count": 24,
   "metadata": {
    "collapsed": true
   },
   "outputs": [],
   "source": [
    "bvsc = BVSCalculator()"
   ]
  },
  {
   "cell_type": "markdown",
   "metadata": {},
   "source": [
    "Again, you can explore the various options available in this object by placing a period after the variable name, and pressing tab in jupyter.  If you wanted more detailed information about this object, you can put a '?' after the variable name, and the associated help documentation will pop up.  This is true of pretty much anything in python, not just diffpy routines."
   ]
  },
  {
   "cell_type": "code",
   "execution_count": 28,
   "metadata": {
    "collapsed": true
   },
   "outputs": [],
   "source": [
    "bvsc?"
   ]
  },
  {
   "cell_type": "markdown",
   "metadata": {},
   "source": [
    "Calculate BVS and print the expected and actual valences.\n"
   ]
  },
  {
   "cell_type": "code",
   "execution_count": 32,
   "metadata": {
    "collapsed": true
   },
   "outputs": [],
   "source": [
    "vsim = bvsc(nacl)"
   ]
  },
  {
   "cell_type": "code",
   "execution_count": null,
   "metadata": {
    "collapsed": true
   },
   "outputs": [],
   "source": [
    "print('Calculate bond valence sums for NaCl \"bvsc(nacl)\"')\n",
    "print('expected \"bvsc.valences\":\\n ', bvsc.valences)\n",
    "print('calculated \"bvsc.value\":\\n ' , vsim)\n",
    "print('difference \"bvsc.bvdiff\":\\n ', bvsc.bvdiff)\n",
    "print('root mean square difference \"bvsc.bvrmsdiff\":', bvsc.bvrmsdiff)"
   ]
  },
  {
   "cell_type": "markdown",
   "metadata": {},
   "source": [
    "Next, we'll create new BVS calculator with a custom bond valence parameters.  We'll set the alternate value for the Na+ Cl- bond valence parameters from the published structure at http://www.iucr.org/__data/assets/file/0018/59004/bvparm2011.cif. \n",
    "\n",
    "We'll also set a 6 Angstrom cutoff."
   ]
  },
  {
   "cell_type": "code",
   "execution_count": null,
   "metadata": {
    "collapsed": true
   },
   "outputs": [],
   "source": [
    "bvsc2 = BVSCalculator()\n",
    "\n",
    "bvsc2.bvparamtable.setCustom('Na', +1, 'Cl', -1, Ro=1.6833, B=0.608)\n",
    "bvsc2.rmax = 6\n",
    "\n",
    "print(\"BVS in NaCl with alternate parameters:\\n \", bvsc2(nacl))"
   ]
  },
  {
   "cell_type": "markdown",
   "metadata": {},
   "source": [
    "Finally, we'll store the lookup table of bond valence parameters as it's own object."
   ]
  },
  {
   "cell_type": "code",
   "execution_count": 1,
   "metadata": {},
   "outputs": [
    {
     "name": "stdout",
     "output_type": "stream",
     "text": [
      "Calculate bond valence sums for NaCl \"bvsc(nacl)\"\n",
      "expected \"bvsc.valences\":\n",
      "  [ 1.  1.  1.  1. -1. -1. -1. -1.]\n",
      "calculated \"bvsc.value\":\n",
      "  [ 1.01352005  1.01352005  1.01352005  1.01352005 -1.01352005 -1.01352005\n",
      " -1.01352005 -1.01352005]\n",
      "difference \"bvsc.bvdiff\":\n",
      "  [-0.01352005 -0.01352005 -0.01352005 -0.01352005 -0.01352005 -0.01352005\n",
      " -0.01352005 -0.01352005]\n",
      "root mean square difference \"bvsc.bvrmsdiff\": 0.0135200525429\n",
      "\n",
      "BVS in NaCl with alternate parameters:\n",
      "  [ 0.98303217  0.98303217  0.98303217  0.98303217 -0.98303217 -0.98303217\n",
      " -0.98303217 -0.98303217]\n",
      "\n",
      "Standard lookup of bond valence parameters:\n",
      "  BVParam('Na', 1, 'Cl', -1, Ro=2.15, B=0.37, ref_id='b')\n",
      "  BVParam('Na', 1, 'Br', -1, Ro=2.33, B=0.37, ref_id='b')\n",
      "\n",
      "Handling of unknown or invalid ion pairs:\n",
      "  table.lookup('A+', 'X-'): BVParam()\n",
      "  table.lookup('A+', 'X-') == table.none(): True\n"
     ]
    }
   ],
   "source": [
    "table = BVParametersTable()\n",
    "bp = table.lookup('Na+', 'Cl-')\n",
    "bp2 = table.lookup('Na', +1, 'Br', -1)"
   ]
  },
  {
   "cell_type": "markdown",
   "metadata": {},
   "source": [
    "And display this table."
   ]
  },
  {
   "cell_type": "code",
   "execution_count": null,
   "metadata": {
    "collapsed": true
   },
   "outputs": [],
   "source": [
    "print(\"Standard lookup of bond valence parameters:\")\n",
    "print(\" \", bp)\n",
    "print(\" \", bp2)\n",
    "print()\n",
    "\n",
    "print(\"Handling of unknown or invalid ion pairs:\")\n",
    "print(\"  table.lookup('A+', 'X-'):\", table.lookup('A+', 'X-'))\n",
    "print(\"  table.lookup('A+', 'X-') == table.none():\",\n",
    "      table.lookup('A+', 'X-') == table.none())\n"
   ]
  }
 ],
 "metadata": {
  "kernelspec": {
   "display_name": "Python 3",
   "language": "python",
   "name": "python3"
  },
  "language_info": {
   "codemirror_mode": {
    "name": "ipython",
    "version": 3
   },
   "file_extension": ".py",
   "mimetype": "text/x-python",
   "name": "python",
   "nbconvert_exporter": "python",
   "pygments_lexer": "ipython3",
   "version": "3.6.3"
  }
 },
 "nbformat": 4,
 "nbformat_minor": 2
}
